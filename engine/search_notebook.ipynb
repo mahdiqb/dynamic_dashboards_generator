{
 "cells": [
  {
   "cell_type": "code",
   "execution_count": null,
   "metadata": {
    "jupyter": {
     "source_hidden": true
    }
   },
   "outputs": [
    {
     "name": "stdout",
     "output_type": "stream",
     "text": [
      "The user ID is: 52070\n"
     ]
    }
   ],
   "source": [
    "from random import randint\n",
    "import utils as F\n",
    "import papermill as pm\n",
    "\n",
    "# Project URLs for redirect\n",
    "BASE_URL = 'BASE URL'\n",
    "PROJECT_PATH = 'lab/tree/dynamic_dashboards_generator/'\n",
    "\n",
    "# News data list\n",
    "news_data = []\n",
    "\n",
    "# Google Storage configuration\n",
    "gs_bucket = 'notebooks_bucket'\n",
    "aggregation_folder = 'aggregated_data2/columns/'\n",
    "quandl_folder = 'aggregated_data2/quandl'\n",
    "\n",
    "user_id = str(randint(0, 100000))\n",
    "print('The user ID is: '+user_id)\n",
    "search_input = input()\n",
    "s_phrases = F.generate_keywords(search_input)\n",
    "nb_quandl = F.get_datasets_from_quandl(s_phrases)\n",
    "if nb_quandl == 0:\n",
    "    print(\"No datasets found in Quandl.\")\n",
    "relevant_data = F.search_in_metadata(s_phrases, gs_bucket, aggregation_folder)\n",
    "relevant_data = relevant_data+F.search_in_metadata(s_phrases, gs_bucket, quandl_folder)\n",
    "for kw in s_phrases:\n",
    "    news_data.append(F.get_news(kw))\n",
    "dashboard_params = F.generate_chart_types(relevant_data+news_data)\n",
    "if len(dashboard_params) == 0:\n",
    "    print(\"There's no matches in the application to your query. Please use different keywords in the query.\")\n",
    "else:\n",
    "    dashboard_type = len(dashboard_params)\n",
    "    pm.execute_notebook(\n",
    "       f'template_dashboard_{dashboard_type}.ipynb',\n",
    "       f'../output/output_dashboard_{dashboard_type}_{user_id}.ipynb',\n",
    "       parameters = dict(charts=dashboard_params)\n",
    "    )\n",
    "    output_link = f'Notebook link: {BASE_URL}{PROJECT_PATH}output/output_dashboard_{dashboard_type}_{user_id}.ipynb'\n",
    "    print(output_link) "
   ]
  },
  {
   "cell_type": "code",
   "execution_count": null,
   "metadata": {},
   "outputs": [],
   "source": []
  }
 ],
 "metadata": {
  "kernelspec": {
   "display_name": "Python 3",
   "language": "python",
   "name": "python3"
  },
  "language_info": {
   "codemirror_mode": {
    "name": "ipython",
    "version": 3
   },
   "file_extension": ".py",
   "mimetype": "text/x-python",
   "name": "python",
   "nbconvert_exporter": "python",
   "pygments_lexer": "ipython3",
   "version": "3.7.6"
  }
 },
 "nbformat": 4,
 "nbformat_minor": 4
}
